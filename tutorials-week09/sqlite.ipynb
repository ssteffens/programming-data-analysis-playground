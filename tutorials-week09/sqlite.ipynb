{
 "cells": [
  {
   "cell_type": "markdown",
   "id": "dd53d767-e3d2-4c1f-806d-ca5380b3552c",
   "metadata": {},
   "source": [
    "# SQLite3\n",
    "\n",
    "https://docs.python.org/3/library/sqlite3.html"
   ]
  },
  {
   "cell_type": "code",
   "execution_count": 20,
   "id": "4f26c92d-27aa-4e14-a22b-6f470102cead",
   "metadata": {},
   "outputs": [],
   "source": [
    "# Import SQLite3\n",
    "import sqlite3\n",
    "\n",
    "# Import pandas\n",
    "import pandas as pd"
   ]
  },
  {
   "cell_type": "code",
   "execution_count": 2,
   "id": "1af006a9-f69b-4676-97ce-1f18484ff087",
   "metadata": {},
   "outputs": [],
   "source": [
    "# Create and connect to a file path for the database\n",
    "con = sqlite3.connect('data/example_database.db')"
   ]
  },
  {
   "cell_type": "code",
   "execution_count": 3,
   "id": "c434d67d-d5a9-4133-bc99-1e6d94eb638a",
   "metadata": {},
   "outputs": [],
   "source": [
    "# Create a cursor to the database\n",
    "cur = con.cursor()"
   ]
  },
  {
   "cell_type": "code",
   "execution_count": 4,
   "id": "37e04aa6-d518-47f1-b81c-dbd3e1ac6367",
   "metadata": {},
   "outputs": [],
   "source": [
    "# Create a table with two columns of type text\n",
    "cur.execute('CREATE TABLE person(name text, address text)')\n",
    "\n",
    "# Save the table\n",
    "con.commit()"
   ]
  },
  {
   "cell_type": "code",
   "execution_count": 5,
   "id": "8e179ea5-0792-4829-b4a3-92ece1816b19",
   "metadata": {},
   "outputs": [
    {
     "data": {
      "text/plain": [
       "[('person',)]"
      ]
     },
     "execution_count": 5,
     "metadata": {},
     "output_type": "execute_result"
    }
   ],
   "source": [
    "# Show tables\n",
    "cur.execute(\"SELECT name FROM sqlite_master WHERE type='table'\")\n",
    "cur.fetchall()"
   ]
  },
  {
   "cell_type": "code",
   "execution_count": 6,
   "id": "433a51a8-7578-4861-9103-f96816036a0b",
   "metadata": {},
   "outputs": [],
   "source": [
    "# Insert data into the database\n",
    "cur.execute(\"INSERT INTO person VALUES('Anna Henry', 'Carlow')\")\n",
    "con.commit()"
   ]
  },
  {
   "cell_type": "code",
   "execution_count": 7,
   "id": "ef03b46e-6d8e-4afe-9650-c60f2842949e",
   "metadata": {},
   "outputs": [
    {
     "data": {
      "text/plain": [
       "[('Anna Henry', 'Carlow')]"
      ]
     },
     "execution_count": 7,
     "metadata": {},
     "output_type": "execute_result"
    }
   ],
   "source": [
    "# Display data in table\n",
    "cur.execute(\"SELECT * FROM person\")\n",
    "cur.fetchall()"
   ]
  },
  {
   "cell_type": "code",
   "execution_count": 8,
   "id": "0b47dbde-ce02-421a-9680-bb7ae9d1c775",
   "metadata": {},
   "outputs": [
    {
     "data": {
      "text/plain": [
       "[('Shelby Beck', 'Tipperary'),\n",
       " ('Marie Carr', 'Kerry'),\n",
       " ('Sarah Heath', 'Monaghan')]"
      ]
     },
     "execution_count": 8,
     "metadata": {},
     "output_type": "execute_result"
    }
   ],
   "source": [
    "# To create several entries, create array of entries\n",
    "person = [('Shelby Beck', 'Tipperary'), ('Marie Carr', 'Kerry'), ('Sarah Heath', 'Monaghan')]\n",
    "person"
   ]
  },
  {
   "cell_type": "code",
   "execution_count": 9,
   "id": "5a737e6a-a3f7-49b8-9ced-d8d2310126c6",
   "metadata": {},
   "outputs": [],
   "source": [
    "# Run cursor with executemany() to insert array of records\n",
    "cur.executemany(\"INSERT INTO person VALUES(?, ?)\", person)\n",
    "con.commit()"
   ]
  },
  {
   "cell_type": "code",
   "execution_count": 10,
   "id": "d5270e97-6702-47bd-9fe2-3251466a4698",
   "metadata": {},
   "outputs": [
    {
     "data": {
      "text/plain": [
       "[('Anna Henry', 'Carlow'),\n",
       " ('Shelby Beck', 'Tipperary'),\n",
       " ('Marie Carr', 'Kerry'),\n",
       " ('Sarah Heath', 'Monaghan')]"
      ]
     },
     "execution_count": 10,
     "metadata": {},
     "output_type": "execute_result"
    }
   ],
   "source": [
    "# Display data in table\n",
    "cur.execute(\"SELECT * FROM person\")\n",
    "cur.fetchall()"
   ]
  },
  {
   "cell_type": "code",
   "execution_count": 11,
   "id": "0e08d3b3-9e9f-4b7f-a750-a231a3d7ac6d",
   "metadata": {},
   "outputs": [],
   "source": [
    "# If entering a duplicate value: \n",
    "cur.execute(\"INSERT INTO person VALUES('Anna Henry', 'Carlow')\")\n",
    "con.commit()"
   ]
  },
  {
   "cell_type": "code",
   "execution_count": 12,
   "id": "0d07ed08-a7f5-4c27-a447-070dfd7babe7",
   "metadata": {},
   "outputs": [
    {
     "data": {
      "text/plain": [
       "[(1, 'Anna Henry', 'Carlow'),\n",
       " (2, 'Shelby Beck', 'Tipperary'),\n",
       " (3, 'Marie Carr', 'Kerry'),\n",
       " (4, 'Sarah Heath', 'Monaghan'),\n",
       " (5, 'Anna Henry', 'Carlow')]"
      ]
     },
     "execution_count": 12,
     "metadata": {},
     "output_type": "execute_result"
    }
   ],
   "source": [
    "# SQLite3 adds a row id to each record as a unique identifier meaning that duplicate entries can be made\n",
    "cur.execute(\"SELECT ROWID, name, address FROM person\")\n",
    "cur.fetchall()"
   ]
  },
  {
   "cell_type": "code",
   "execution_count": 13,
   "id": "dd8f353f-95b6-466f-a098-5f56acac11c6",
   "metadata": {},
   "outputs": [],
   "source": [
    "# Deleting a record\n",
    "cur.execute(\"DELETE FROM person WHERE ROWID = 1\")\n",
    "con.commit()"
   ]
  },
  {
   "cell_type": "code",
   "execution_count": 14,
   "id": "ba4ad58b-7eb9-4ad0-b19a-35ac4be52902",
   "metadata": {},
   "outputs": [
    {
     "data": {
      "text/plain": [
       "[(2, 'Shelby Beck', 'Tipperary'),\n",
       " (3, 'Marie Carr', 'Kerry'),\n",
       " (4, 'Sarah Heath', 'Monaghan'),\n",
       " (5, 'Anna Henry', 'Carlow')]"
      ]
     },
     "execution_count": 14,
     "metadata": {},
     "output_type": "execute_result"
    }
   ],
   "source": [
    "# Display records\n",
    "cur.execute(\"SELECT ROWID, name, address FROM person\")\n",
    "cur.fetchall()"
   ]
  },
  {
   "cell_type": "code",
   "execution_count": 15,
   "id": "8c3ec8d1-9688-48c4-b170-9fc18be183f1",
   "metadata": {},
   "outputs": [],
   "source": [
    "# Insert data into the database\n",
    "cur.execute(\"INSERT INTO person VALUES('Robert Snyder', 'Leitrim')\")\n",
    "con.commit()"
   ]
  },
  {
   "cell_type": "code",
   "execution_count": 16,
   "id": "cc13afa5-c9c0-48bc-86f9-7ca2ba8d489d",
   "metadata": {},
   "outputs": [
    {
     "data": {
      "text/plain": [
       "[(2, 'Shelby Beck', 'Tipperary'),\n",
       " (3, 'Marie Carr', 'Kerry'),\n",
       " (4, 'Sarah Heath', 'Monaghan'),\n",
       " (5, 'Anna Henry', 'Carlow'),\n",
       " (6, 'Robert Snyder', 'Leitrim')]"
      ]
     },
     "execution_count": 16,
     "metadata": {},
     "output_type": "execute_result"
    }
   ],
   "source": [
    "# Display records\n",
    "cur.execute(\"SELECT ROWID, name, address FROM person\")\n",
    "cur.fetchall()"
   ]
  },
  {
   "cell_type": "markdown",
   "id": "71fc4f43-c8c8-41fb-aecf-892ac3743bef",
   "metadata": {},
   "source": [
    "<br>\n",
    "\n",
    "## Deleting a table"
   ]
  },
  {
   "cell_type": "code",
   "execution_count": 17,
   "id": "21b84655-81c5-408a-ba43-3ea96185116c",
   "metadata": {},
   "outputs": [],
   "source": [
    "# Delete table created above\n",
    "#cur.execute(\"DROP TABLE person\")\n",
    "#con.commit()"
   ]
  },
  {
   "cell_type": "code",
   "execution_count": 18,
   "id": "92e3425d-bfed-45bf-871e-eac41c9d2a8c",
   "metadata": {},
   "outputs": [
    {
     "data": {
      "text/plain": [
       "[('person',)]"
      ]
     },
     "execution_count": 18,
     "metadata": {},
     "output_type": "execute_result"
    }
   ],
   "source": [
    "# Show tables\n",
    "cur.execute(\"SELECT name FROM sqlite_master WHERE type='table'\")\n",
    "cur.fetchall()"
   ]
  },
  {
   "cell_type": "code",
   "execution_count": null,
   "id": "f620af5e-3dfa-4cd9-ae1e-d4d324568fed",
   "metadata": {},
   "outputs": [],
   "source": []
  },
  {
   "cell_type": "markdown",
   "id": "6ff2a887-86ac-4f43-8f7c-92104037efb4",
   "metadata": {},
   "source": [
    "<br>\n",
    "\n",
    "## SQLite3 with Pandas"
   ]
  },
  {
   "cell_type": "code",
   "execution_count": 54,
   "id": "c27e6c02-31a0-46a2-b509-5f26e0aa0263",
   "metadata": {},
   "outputs": [
    {
     "data": {
      "text/html": [
       "<div>\n",
       "<style scoped>\n",
       "    .dataframe tbody tr th:only-of-type {\n",
       "        vertical-align: middle;\n",
       "    }\n",
       "\n",
       "    .dataframe tbody tr th {\n",
       "        vertical-align: top;\n",
       "    }\n",
       "\n",
       "    .dataframe thead th {\n",
       "        text-align: right;\n",
       "    }\n",
       "</style>\n",
       "<table border=\"1\" class=\"dataframe\">\n",
       "  <thead>\n",
       "    <tr style=\"text-align: right;\">\n",
       "      <th></th>\n",
       "      <th>ID</th>\n",
       "      <th>Name</th>\n",
       "      <th>Address</th>\n",
       "    </tr>\n",
       "  </thead>\n",
       "  <tbody>\n",
       "    <tr>\n",
       "      <th>0</th>\n",
       "      <td>0</td>\n",
       "      <td>Anna Henry</td>\n",
       "      <td>Carlow</td>\n",
       "    </tr>\n",
       "    <tr>\n",
       "      <th>1</th>\n",
       "      <td>1</td>\n",
       "      <td>Shelby Beck</td>\n",
       "      <td>Tipperary</td>\n",
       "    </tr>\n",
       "    <tr>\n",
       "      <th>2</th>\n",
       "      <td>2</td>\n",
       "      <td>Marie Carr</td>\n",
       "      <td>Kerry</td>\n",
       "    </tr>\n",
       "    <tr>\n",
       "      <th>3</th>\n",
       "      <td>3</td>\n",
       "      <td>Sarah Heath</td>\n",
       "      <td>Monaghan</td>\n",
       "    </tr>\n",
       "    <tr>\n",
       "      <th>4</th>\n",
       "      <td>4</td>\n",
       "      <td>Robert Snyder</td>\n",
       "      <td>Leitrim</td>\n",
       "    </tr>\n",
       "    <tr>\n",
       "      <th>5</th>\n",
       "      <td>5</td>\n",
       "      <td>Lucas Ross</td>\n",
       "      <td>Cork</td>\n",
       "    </tr>\n",
       "    <tr>\n",
       "      <th>6</th>\n",
       "      <td>6</td>\n",
       "      <td>David Cox</td>\n",
       "      <td>Leitrim</td>\n",
       "    </tr>\n",
       "    <tr>\n",
       "      <th>7</th>\n",
       "      <td>7</td>\n",
       "      <td>Jackson Dean</td>\n",
       "      <td>Louth</td>\n",
       "    </tr>\n",
       "    <tr>\n",
       "      <th>8</th>\n",
       "      <td>8</td>\n",
       "      <td>Elizabeth Mcfarland</td>\n",
       "      <td>Dublin</td>\n",
       "    </tr>\n",
       "    <tr>\n",
       "      <th>9</th>\n",
       "      <td>9</td>\n",
       "      <td>Timothy Cummings</td>\n",
       "      <td>Limerick</td>\n",
       "    </tr>\n",
       "  </tbody>\n",
       "</table>\n",
       "</div>"
      ],
      "text/plain": [
       "   ID                 Name    Address\n",
       "0   0           Anna Henry     Carlow\n",
       "1   1          Shelby Beck  Tipperary\n",
       "2   2           Marie Carr      Kerry\n",
       "3   3          Sarah Heath   Monaghan\n",
       "4   4        Robert Snyder    Leitrim\n",
       "5   5           Lucas Ross       Cork\n",
       "6   6            David Cox    Leitrim\n",
       "7   7         Jackson Dean      Louth\n",
       "8   8  Elizabeth Mcfarland     Dublin\n",
       "9   9     Timothy Cummings   Limerick"
      ]
     },
     "execution_count": 54,
     "metadata": {},
     "output_type": "execute_result"
    }
   ],
   "source": [
    "# Read in data from a csv file\n",
    "driver = pd.read_csv('data/driver.csv')\n",
    "driver"
   ]
  },
  {
   "cell_type": "code",
   "execution_count": 55,
   "id": "673e67db-caf5-4a05-9b91-2cb1f2a56158",
   "metadata": {},
   "outputs": [],
   "source": [
    "# Take data from csv file and create a new sqlite3 table called driver\n",
    "driver.to_sql(\"driver\", con)"
   ]
  },
  {
   "cell_type": "code",
   "execution_count": 56,
   "id": "8ad80f76-daeb-41c7-9dc3-fdedcc3cede5",
   "metadata": {},
   "outputs": [
    {
     "data": {
      "text/plain": [
       "[(0, 0, 'Anna Henry', 'Carlow'),\n",
       " (1, 1, 'Shelby Beck', 'Tipperary'),\n",
       " (2, 2, 'Marie Carr', 'Kerry'),\n",
       " (3, 3, 'Sarah Heath', 'Monaghan'),\n",
       " (4, 4, 'Robert Snyder', 'Leitrim'),\n",
       " (5, 5, 'Lucas Ross', 'Cork'),\n",
       " (6, 6, 'David Cox', 'Leitrim'),\n",
       " (7, 7, 'Jackson Dean', 'Louth'),\n",
       " (8, 8, 'Elizabeth Mcfarland', 'Dublin'),\n",
       " (9, 9, 'Timothy Cummings', 'Limerick')]"
      ]
     },
     "execution_count": 56,
     "metadata": {},
     "output_type": "execute_result"
    }
   ],
   "source": [
    "# View driver data\n",
    "cur.execute(\"SELECT * FROM driver\")\n",
    "cur.fetchall()"
   ]
  },
  {
   "cell_type": "code",
   "execution_count": 29,
   "id": "37b9799a-c459-496a-9cb1-afd76de423f7",
   "metadata": {},
   "outputs": [],
   "source": [
    "# Read in car data from csv file\n",
    "car = pd.read_csv(\"data/car.csv\")\n",
    "car.to_sql(\"car\", con)"
   ]
  },
  {
   "cell_type": "code",
   "execution_count": 36,
   "id": "d148dd48-cb92-4fde-8c32-c4b5d0352d9d",
   "metadata": {},
   "outputs": [
    {
     "data": {
      "text/plain": [
       "[(0, '08-SO-11072', 6),\n",
       " (1, '16-KE-16368', 1),\n",
       " (2, '08-LD-16871', 8),\n",
       " (3, '11-KY-17442', 4),\n",
       " (4, '16-LD-17545', 5),\n",
       " (5, '10-WH-3543', 0),\n",
       " (6, '03-KE-8148', 9),\n",
       " (7, '06-G-23024', 2),\n",
       " (8, '08-LS-21770', 7),\n",
       " (9, '03-WX-41717', 3)]"
      ]
     },
     "execution_count": 36,
     "metadata": {},
     "output_type": "execute_result"
    }
   ],
   "source": [
    "# View car data\n",
    "cur.execute(\"SELECT * FROM car\")\n",
    "cur.fetchall()"
   ]
  },
  {
   "cell_type": "code",
   "execution_count": 43,
   "id": "86e108c9-373f-4578-a331-1649562716c1",
   "metadata": {},
   "outputs": [],
   "source": [
    "# Read in county data from csv file\n",
    "county = pd.read_csv(\"data/county.csv\")\n",
    "county.to_sql(\"county\", con)"
   ]
  },
  {
   "cell_type": "code",
   "execution_count": 44,
   "id": "f8cfb96d-d4c5-4df3-ae7b-1472a3a11aa7",
   "metadata": {
    "scrolled": true,
    "tags": []
   },
   "outputs": [
    {
     "data": {
      "text/plain": [
       "[(0, 'C', 'Cork'),\n",
       " (1, 'CE', 'Clare'),\n",
       " (2, 'CN', 'Cavan'),\n",
       " (3, 'CW', 'Carlow'),\n",
       " (4, 'D', 'Dublin'),\n",
       " (5, 'DL', 'Donegal'),\n",
       " (6, 'G', 'Galway'),\n",
       " (7, 'KE', 'Kildare'),\n",
       " (8, 'KK', 'Kilkenny'),\n",
       " (9, 'KY', 'Kerry'),\n",
       " (10, 'L', 'Limerick City'),\n",
       " (11, 'LD', 'Longford'),\n",
       " (12, 'LH', 'Louth'),\n",
       " (13, 'LK', 'County Limerick'),\n",
       " (14, 'LM', 'Leitrim'),\n",
       " (15, 'LS', 'Laois'),\n",
       " (16, 'MH', 'Meath'),\n",
       " (17, 'MN', 'Monaghan'),\n",
       " (18, 'MO', 'Mayo'),\n",
       " (19, 'OY', 'Offaly'),\n",
       " (20, 'SO', 'Sligo'),\n",
       " (21, 'RN', 'Roscommon'),\n",
       " (22, 'TN', 'Tipperary North'),\n",
       " (23, 'TS', 'Tipperary South'),\n",
       " (24, 'W', 'Waterford City'),\n",
       " (25, 'WD', 'County Waterford'),\n",
       " (26, 'WH', 'Westmeath'),\n",
       " (27, 'WX', 'Wexford'),\n",
       " (28, 'WW', 'Wicklow')]"
      ]
     },
     "execution_count": 44,
     "metadata": {},
     "output_type": "execute_result"
    }
   ],
   "source": [
    "# View county data\n",
    "cur.execute(\"SELECT * FROM county\")\n",
    "cur.fetchall()"
   ]
  },
  {
   "cell_type": "code",
   "execution_count": 46,
   "id": "74fc0a7d-1a8e-4a0a-af0b-b1bb58a15d0e",
   "metadata": {},
   "outputs": [
    {
     "data": {
      "text/plain": [
       "[('person',), ('driver',), ('car',), ('county',)]"
      ]
     },
     "execution_count": 46,
     "metadata": {},
     "output_type": "execute_result"
    }
   ],
   "source": [
    "# Show all tables\n",
    "cur.execute(\"SELECT name FROM sqlite_master WHERE type='table'\")\n",
    "cur.fetchall()"
   ]
  },
  {
   "cell_type": "code",
   "execution_count": 60,
   "id": "6478c3a1-f95d-469a-9627-e0469e8ec90e",
   "metadata": {},
   "outputs": [
    {
     "data": {
      "text/plain": [
       "[('Anna Henry', '10-WH-3543', 'Carlow'),\n",
       " ('Shelby Beck', '16-KE-16368', 'Tipperary'),\n",
       " ('Marie Carr', '06-G-23024', 'Kerry'),\n",
       " ('Sarah Heath', '03-WX-41717', 'Monaghan'),\n",
       " ('Robert Snyder', '11-KY-17442', 'Leitrim'),\n",
       " ('Lucas Ross', '16-LD-17545', 'Cork'),\n",
       " ('David Cox', '08-SO-11072', 'Leitrim'),\n",
       " ('Jackson Dean', '08-LS-21770', 'Louth'),\n",
       " ('Elizabeth Mcfarland', '08-LD-16871', 'Dublin'),\n",
       " ('Timothy Cummings', '03-KE-8148', 'Limerick')]"
      ]
     },
     "execution_count": 60,
     "metadata": {},
     "output_type": "execute_result"
    }
   ],
   "source": [
    "# Joining tables\n",
    "cur.execute(\"\"\"\n",
    "    SELECT d.Name, c.Registration, d.Address\n",
    "    FROM driver as d JOIN car as c ON d.ID = c.OwnerId\n",
    "    \"\"\")\n",
    "cur.fetchall()"
   ]
  },
  {
   "cell_type": "code",
   "execution_count": 61,
   "id": "94c2ece7-d80e-4412-9d98-9ed1efbd310f",
   "metadata": {},
   "outputs": [],
   "source": [
    "# Close the connection\n",
    "con.close()"
   ]
  }
 ],
 "metadata": {
  "kernelspec": {
   "display_name": "Python 3",
   "language": "python",
   "name": "python3"
  },
  "language_info": {
   "codemirror_mode": {
    "name": "ipython",
    "version": 3
   },
   "file_extension": ".py",
   "mimetype": "text/x-python",
   "name": "python",
   "nbconvert_exporter": "python",
   "pygments_lexer": "ipython3",
   "version": "3.8.8"
  }
 },
 "nbformat": 4,
 "nbformat_minor": 5
}
