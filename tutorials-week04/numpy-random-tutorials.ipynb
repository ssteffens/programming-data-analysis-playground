{
 "cells": [
  {
   "cell_type": "code",
   "execution_count": 1,
   "id": "6b0b7bc6-0c84-485b-b215-c002f79d6f59",
   "metadata": {},
   "outputs": [],
   "source": [
    "# First need to import numpy package\n",
    "import numpy as np\n",
    "\n",
    "rng = np.random.default_rng()"
   ]
  },
  {
   "cell_type": "code",
   "execution_count": 2,
   "id": "923446b7-2254-43bf-b02d-4d04bf741579",
   "metadata": {},
   "outputs": [
    {
     "data": {
      "text/plain": [
       "array([1, 1, 0, 1, 0, 1, 0, 0, 1, 0], dtype=int64)"
      ]
     },
     "execution_count": 2,
     "metadata": {},
     "output_type": "execute_result"
    }
   ],
   "source": [
    "# Return 10 integers, up to but not including 2, \n",
    "\n",
    "rng.integers(2, size=10)"
   ]
  },
  {
   "cell_type": "code",
   "execution_count": 3,
   "id": "30a8b2cb-c9ef-4d02-b1c1-b55b63c3ed10",
   "metadata": {},
   "outputs": [
    {
     "data": {
      "text/plain": [
       "array([[4, 2, 4, 3],\n",
       "       [0, 2, 4, 3]], dtype=int64)"
      ]
     },
     "execution_count": 3,
     "metadata": {},
     "output_type": "execute_result"
    }
   ],
   "source": [
    "# Returns a 2-dimentional array with numbers from 0 up to 5 (exclusive)\n",
    "# 2 rows, 4 columns\n",
    "\n",
    "rng.integers(5, size=(2, 4))"
   ]
  },
  {
   "cell_type": "code",
   "execution_count": 4,
   "id": "19010667-e942-46aa-ad78-0f37f4e1241c",
   "metadata": {},
   "outputs": [
    {
     "data": {
      "text/plain": [
       "array([[[3, 2, 1],\n",
       "        [3, 0, 3],\n",
       "        [0, 1, 4],\n",
       "        [3, 2, 4],\n",
       "        [1, 1, 2]],\n",
       "\n",
       "       [[2, 0, 3],\n",
       "        [2, 2, 3],\n",
       "        [4, 0, 3],\n",
       "        [4, 4, 3],\n",
       "        [0, 4, 3]],\n",
       "\n",
       "       [[0, 3, 1],\n",
       "        [1, 3, 0],\n",
       "        [3, 0, 2],\n",
       "        [3, 4, 3],\n",
       "        [0, 4, 4]],\n",
       "\n",
       "       [[3, 3, 2],\n",
       "        [3, 2, 3],\n",
       "        [2, 3, 0],\n",
       "        [2, 3, 2],\n",
       "        [2, 2, 0]],\n",
       "\n",
       "       [[3, 3, 1],\n",
       "        [2, 3, 3],\n",
       "        [0, 1, 4],\n",
       "        [0, 1, 1],\n",
       "        [0, 2, 3]],\n",
       "\n",
       "       [[0, 3, 4],\n",
       "        [0, 0, 0],\n",
       "        [1, 0, 3],\n",
       "        [0, 4, 1],\n",
       "        [0, 4, 2]],\n",
       "\n",
       "       [[3, 2, 4],\n",
       "        [1, 1, 0],\n",
       "        [2, 0, 0],\n",
       "        [4, 1, 2],\n",
       "        [4, 4, 2]],\n",
       "\n",
       "       [[4, 2, 2],\n",
       "        [2, 2, 1],\n",
       "        [0, 2, 4],\n",
       "        [2, 2, 4],\n",
       "        [2, 2, 3]],\n",
       "\n",
       "       [[0, 1, 4],\n",
       "        [2, 1, 1],\n",
       "        [0, 0, 2],\n",
       "        [4, 1, 1],\n",
       "        [3, 3, 0]],\n",
       "\n",
       "       [[0, 4, 2],\n",
       "        [2, 1, 4],\n",
       "        [4, 1, 1],\n",
       "        [0, 2, 4],\n",
       "        [2, 1, 4]]], dtype=int64)"
      ]
     },
     "execution_count": 4,
     "metadata": {},
     "output_type": "execute_result"
    }
   ],
   "source": [
    "# Returns 10 arrays of 5 rows and 3 columns\n",
    "\n",
    "rng.integers(5, size=(10, 5, 3))\n"
   ]
  },
  {
   "cell_type": "code",
   "execution_count": 5,
   "id": "3c267f82-2448-45aa-affd-2491578cc4b2",
   "metadata": {},
   "outputs": [
    {
     "data": {
      "text/plain": [
       "array([47, 54,  0, ..., 19, 15, 96], dtype=int64)"
      ]
     },
     "execution_count": 5,
     "metadata": {},
     "output_type": "execute_result"
    }
   ],
   "source": [
    "# Returns an array of 10,000 numbers up to 100 (exclusive)\n",
    "\n",
    "x = rng.integers(100, size=10000)\n",
    "x"
   ]
  },
  {
   "cell_type": "code",
   "execution_count": 6,
   "id": "b29682e7-bd08-4287-a478-7bda9840a004",
   "metadata": {},
   "outputs": [
    {
     "data": {
      "image/png": "[encoded data removed]",
      "text/plain": [
       "<Figure size 432x288 with 1 Axes>"
      ]
     },
     "metadata": {
      "needs_background": "light"
     },
     "output_type": "display_data"
    }
   ],
   "source": [
    "# To check if the distribution of numbers generated is actually random and the probility for each number is the same, create a histogram\n",
    "\n",
    "# To graphically represent the data, use matplotlib\n",
    "%matplotlib inline\n",
    "import matplotlib.pyplot as plt\n",
    "\n",
    "plt.hist(x)\n",
    "plt.show()"
   ]
  },
  {
   "cell_type": "code",
   "execution_count": 7,
   "id": "eca1cfb8-01d5-42bf-9bff-fad8a8df9b81",
   "metadata": {},
   "outputs": [],
   "source": [
    "# Uniform distribution = every single bin (0 - 19, 20 - 39, etc) holds roughly the same number of values"
   ]
  },
  {
   "cell_type": "code",
   "execution_count": 8,
   "id": "439e19ed-49d6-4030-a463-1c04cc3d5666",
   "metadata": {},
   "outputs": [
    {
     "data": {
      "text/plain": [
       "array([0.90834636, 0.029836  , 0.86942396, 0.29402648, 0.75615813,\n",
       "       0.10712662, 0.19327277, 0.48030584, 0.32965149, 0.08150982])"
      ]
     },
     "execution_count": 8,
     "metadata": {},
     "output_type": "execute_result"
    }
   ],
   "source": [
    "# np.random.rand() returns numbers between 0 and 1 (exclusive)\n",
    "\n",
    "np.random.rand(10)"
   ]
  },
  {
   "cell_type": "code",
   "execution_count": 9,
   "id": "6871b590-b534-49e3-81d0-947bf1e78db1",
   "metadata": {
    "scrolled": true,
    "tags": []
   },
   "outputs": [],
   "source": [
    "# np.random.uniform() returns numbers within a specified range\n",
    "\n",
    "# Example below returns 1000 numbers between -1 and 0 (exclusive)\n",
    "\n",
    "s = np.random.uniform(-1, 0, 1000)"
   ]
  },
  {
   "cell_type": "code",
   "execution_count": 10,
   "id": "cc05f65b-141a-4d2b-b7e5-8362ac783322",
   "metadata": {},
   "outputs": [
    {
     "data": {
      "image/png": "[encoded data removed]",
      "text/plain": [
       "<Figure size 432x288 with 1 Axes>"
      ]
     },
     "metadata": {
      "needs_background": "light"
     },
     "output_type": "display_data"
    }
   ],
   "source": [
    "import matplotlib.pyplot as plt\n",
    "\n",
    "count, bins, ignored = plt.hist(s, 15, density=True)\n",
    "\n",
    "plt.plot(bins, np.ones_like(bins), linewidth=2, color='r')\n",
    "\n",
    "plt.show()"
   ]
  },
  {
   "cell_type": "markdown",
   "id": "a98b7a29-8df4-41ff-a91d-72c3f079309b",
   "metadata": {},
   "source": [
    "## Normal Distribution"
   ]
  },
  {
   "cell_type": "code",
   "execution_count": 17,
   "id": "446a8465-1ed1-4795-998b-b750f0801ed7",
   "metadata": {},
   "outputs": [],
   "source": [
    "# mu = 0 (Expected value = Erwartungswert (\"Mittelwert\" bei Zufallsvariablen))\n",
    "# sigma = 0.1 (standard deviation of population or probability distribution)\n",
    "\n",
    "t = np.random.normal(0, 0.1, 1000)"
   ]
  },
  {
   "cell_type": "code",
   "execution_count": 18,
   "id": "875453e0-8d11-4c97-93b8-7a617be1084d",
   "metadata": {},
   "outputs": [
    {
     "data": {
      "text/plain": [
       "(array([  6.,  34.,  80., 179., 264., 222., 129.,  62.,  20.,   4.]),\n",
       " array([-0.30841146, -0.24414522, -0.17987898, -0.11561275, -0.05134651,\n",
       "         0.01291973,  0.07718597,  0.14145221,  0.20571844,  0.26998468,\n",
       "         0.33425092]),\n",
       " <BarContainer object of 10 artists>)"
      ]
     },
     "execution_count": 18,
     "metadata": {},
     "output_type": "execute_result"
    },
    {
     "data": {
      "image/png": "[encoded data removed]",
      "text/plain": [
       "<Figure size 432x288 with 1 Axes>"
      ]
     },
     "metadata": {
      "needs_background": "light"
     },
     "output_type": "display_data"
    }
   ],
   "source": [
    "plt.hist(t)"
   ]
  },
  {
   "cell_type": "code",
   "execution_count": null,
   "id": "eb9cece2-660c-46ce-b055-1bf18bb6df38",
   "metadata": {},
   "outputs": [],
   "source": []
  }
 ],
 "metadata": {
  "kernelspec": {
   "display_name": "Python 3",
   "language": "python",
   "name": "python3"
  },
  "language_info": {
   "codemirror_mode": {
    "name": "ipython",
    "version": 3
   },
   "file_extension": ".py",
   "mimetype": "text/x-python",
   "name": "python",
   "nbconvert_exporter": "python",
   "pygments_lexer": "ipython3",
   "version": "3.8.8"
  }
 },
 "nbformat": 4,
 "nbformat_minor": 5
}
