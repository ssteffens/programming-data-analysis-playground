{
 "cells": [
  {
   "cell_type": "markdown",
   "id": "fe8ef39d-1845-4e83-b414-d0032de0978a",
   "metadata": {},
   "source": [
    "# Creating time series using the Poisson distribution to simulate hospital admissions\n",
    "https://de.wikipedia.org/wiki/Poisson-Verteilung"
   ]
  },
  {
   "cell_type": "code",
   "execution_count": 1,
   "id": "e58e49cf-4789-4ad4-a1f5-b2ad26e3ceef",
   "metadata": {},
   "outputs": [],
   "source": [
    "import pandas as pd\n",
    "\n",
    "import numpy as np"
   ]
  },
  {
   "cell_type": "code",
   "execution_count": 2,
   "id": "34d75c5a-f883-42b6-942b-15ca415fe3f8",
   "metadata": {},
   "outputs": [],
   "source": [
    "# Creating a time series index: 72 hours starting with midnight January 1st 2018\n",
    "# https://pandas.pydata.org/pandas-docs/stable/reference/api/pandas.date_range.html\n",
    "\n",
    "rng = pd.date_range(start='1/1/2018', periods=72, freq='H')"
   ]
  },
  {
   "cell_type": "code",
   "execution_count": 3,
   "id": "c86b8c83-d27d-4932-8329-83ca0e4ab397",
   "metadata": {},
   "outputs": [
    {
     "data": {
      "text/plain": [
       "DatetimeIndex(['2018-01-01 00:00:00', '2018-01-01 01:00:00',\n",
       "               '2018-01-01 02:00:00', '2018-01-01 03:00:00',\n",
       "               '2018-01-01 04:00:00', '2018-01-01 05:00:00',\n",
       "               '2018-01-01 06:00:00', '2018-01-01 07:00:00',\n",
       "               '2018-01-01 08:00:00', '2018-01-01 09:00:00',\n",
       "               '2018-01-01 10:00:00', '2018-01-01 11:00:00',\n",
       "               '2018-01-01 12:00:00', '2018-01-01 13:00:00',\n",
       "               '2018-01-01 14:00:00', '2018-01-01 15:00:00',\n",
       "               '2018-01-01 16:00:00', '2018-01-01 17:00:00',\n",
       "               '2018-01-01 18:00:00', '2018-01-01 19:00:00',\n",
       "               '2018-01-01 20:00:00', '2018-01-01 21:00:00',\n",
       "               '2018-01-01 22:00:00', '2018-01-01 23:00:00',\n",
       "               '2018-01-02 00:00:00', '2018-01-02 01:00:00',\n",
       "               '2018-01-02 02:00:00', '2018-01-02 03:00:00',\n",
       "               '2018-01-02 04:00:00', '2018-01-02 05:00:00',\n",
       "               '2018-01-02 06:00:00', '2018-01-02 07:00:00',\n",
       "               '2018-01-02 08:00:00', '2018-01-02 09:00:00',\n",
       "               '2018-01-02 10:00:00', '2018-01-02 11:00:00',\n",
       "               '2018-01-02 12:00:00', '2018-01-02 13:00:00',\n",
       "               '2018-01-02 14:00:00', '2018-01-02 15:00:00',\n",
       "               '2018-01-02 16:00:00', '2018-01-02 17:00:00',\n",
       "               '2018-01-02 18:00:00', '2018-01-02 19:00:00',\n",
       "               '2018-01-02 20:00:00', '2018-01-02 21:00:00',\n",
       "               '2018-01-02 22:00:00', '2018-01-02 23:00:00',\n",
       "               '2018-01-03 00:00:00', '2018-01-03 01:00:00',\n",
       "               '2018-01-03 02:00:00', '2018-01-03 03:00:00',\n",
       "               '2018-01-03 04:00:00', '2018-01-03 05:00:00',\n",
       "               '2018-01-03 06:00:00', '2018-01-03 07:00:00',\n",
       "               '2018-01-03 08:00:00', '2018-01-03 09:00:00',\n",
       "               '2018-01-03 10:00:00', '2018-01-03 11:00:00',\n",
       "               '2018-01-03 12:00:00', '2018-01-03 13:00:00',\n",
       "               '2018-01-03 14:00:00', '2018-01-03 15:00:00',\n",
       "               '2018-01-03 16:00:00', '2018-01-03 17:00:00',\n",
       "               '2018-01-03 18:00:00', '2018-01-03 19:00:00',\n",
       "               '2018-01-03 20:00:00', '2018-01-03 21:00:00',\n",
       "               '2018-01-03 22:00:00', '2018-01-03 23:00:00'],\n",
       "              dtype='datetime64[ns]', freq='H')"
      ]
     },
     "execution_count": 3,
     "metadata": {},
     "output_type": "execute_result"
    }
   ],
   "source": [
    "rng"
   ]
  },
  {
   "cell_type": "code",
   "execution_count": 4,
   "id": "1565a52f-cb80-43db-a5b5-c24684312f60",
   "metadata": {},
   "outputs": [],
   "source": [
    "# Create a time series using randomly created numbers from numpy.random with the time created above as index\n",
    "# len(rng) means that number of random numbers matches length of rng = 72 records\n",
    "ts = pd.DataFrame(np.random.randn(len(rng)), index=rng, columns=['Admissions'])"
   ]
  },
  {
   "cell_type": "code",
   "execution_count": 5,
   "id": "4603e4f1-d0d7-4210-8962-fed70e4a2706",
   "metadata": {},
   "outputs": [
    {
     "data": {
      "text/html": [
       "<div>\n",
       "<style scoped>\n",
       "    .dataframe tbody tr th:only-of-type {\n",
       "        vertical-align: middle;\n",
       "    }\n",
       "\n",
       "    .dataframe tbody tr th {\n",
       "        vertical-align: top;\n",
       "    }\n",
       "\n",
       "    .dataframe thead th {\n",
       "        text-align: right;\n",
       "    }\n",
       "</style>\n",
       "<table border=\"1\" class=\"dataframe\">\n",
       "  <thead>\n",
       "    <tr style=\"text-align: right;\">\n",
       "      <th></th>\n",
       "      <th>Admissions</th>\n",
       "    </tr>\n",
       "  </thead>\n",
       "  <tbody>\n",
       "    <tr>\n",
       "      <th>2018-01-01 00:00:00</th>\n",
       "      <td>2.543270</td>\n",
       "    </tr>\n",
       "    <tr>\n",
       "      <th>2018-01-01 01:00:00</th>\n",
       "      <td>-0.372079</td>\n",
       "    </tr>\n",
       "    <tr>\n",
       "      <th>2018-01-01 02:00:00</th>\n",
       "      <td>0.676628</td>\n",
       "    </tr>\n",
       "    <tr>\n",
       "      <th>2018-01-01 03:00:00</th>\n",
       "      <td>-0.402541</td>\n",
       "    </tr>\n",
       "    <tr>\n",
       "      <th>2018-01-01 04:00:00</th>\n",
       "      <td>0.745556</td>\n",
       "    </tr>\n",
       "    <tr>\n",
       "      <th>...</th>\n",
       "      <td>...</td>\n",
       "    </tr>\n",
       "    <tr>\n",
       "      <th>2018-01-03 19:00:00</th>\n",
       "      <td>-0.249617</td>\n",
       "    </tr>\n",
       "    <tr>\n",
       "      <th>2018-01-03 20:00:00</th>\n",
       "      <td>1.485040</td>\n",
       "    </tr>\n",
       "    <tr>\n",
       "      <th>2018-01-03 21:00:00</th>\n",
       "      <td>-0.121483</td>\n",
       "    </tr>\n",
       "    <tr>\n",
       "      <th>2018-01-03 22:00:00</th>\n",
       "      <td>1.090969</td>\n",
       "    </tr>\n",
       "    <tr>\n",
       "      <th>2018-01-03 23:00:00</th>\n",
       "      <td>0.127226</td>\n",
       "    </tr>\n",
       "  </tbody>\n",
       "</table>\n",
       "<p>72 rows × 1 columns</p>\n",
       "</div>"
      ],
      "text/plain": [
       "                     Admissions\n",
       "2018-01-01 00:00:00    2.543270\n",
       "2018-01-01 01:00:00   -0.372079\n",
       "2018-01-01 02:00:00    0.676628\n",
       "2018-01-01 03:00:00   -0.402541\n",
       "2018-01-01 04:00:00    0.745556\n",
       "...                         ...\n",
       "2018-01-03 19:00:00   -0.249617\n",
       "2018-01-03 20:00:00    1.485040\n",
       "2018-01-03 21:00:00   -0.121483\n",
       "2018-01-03 22:00:00    1.090969\n",
       "2018-01-03 23:00:00    0.127226\n",
       "\n",
       "[72 rows x 1 columns]"
      ]
     },
     "execution_count": 5,
     "metadata": {},
     "output_type": "execute_result"
    }
   ],
   "source": [
    "ts"
   ]
  },
  {
   "cell_type": "code",
   "execution_count": 6,
   "id": "d69ba185-e001-4c04-b10a-99bce8ad64cf",
   "metadata": {},
   "outputs": [
    {
     "data": {
      "text/plain": [
       "array([ 3, 11,  5,  3,  5,  3,  8,  9,  8,  2])"
      ]
     },
     "execution_count": 6,
     "metadata": {},
     "output_type": "execute_result"
    }
   ],
   "source": [
    "# Using numpy.random to create Poisson distribution\n",
    "# https://numpy.org/doc/stable/reference/random/generated/numpy.random.poisson.html\n",
    "# First number: lambda = expected number of events on average, second number: Size = number of instances\n",
    "\n",
    "np.random.poisson(5,10)"
   ]
  },
  {
   "cell_type": "code",
   "execution_count": 7,
   "id": "03aba4ac-052b-4550-80ef-4967c4ed335c",
   "metadata": {},
   "outputs": [],
   "source": [
    "# Update the time series with poisson \n",
    "\n",
    "ts = pd.DataFrame(np.random.poisson(10, len(rng)), index=rng, columns=['Admissions'])"
   ]
  },
  {
   "cell_type": "code",
   "execution_count": 8,
   "id": "d3fd2840-e957-4587-9a85-eae9fe1240c4",
   "metadata": {},
   "outputs": [
    {
     "data": {
      "text/html": [
       "<div>\n",
       "<style scoped>\n",
       "    .dataframe tbody tr th:only-of-type {\n",
       "        vertical-align: middle;\n",
       "    }\n",
       "\n",
       "    .dataframe tbody tr th {\n",
       "        vertical-align: top;\n",
       "    }\n",
       "\n",
       "    .dataframe thead th {\n",
       "        text-align: right;\n",
       "    }\n",
       "</style>\n",
       "<table border=\"1\" class=\"dataframe\">\n",
       "  <thead>\n",
       "    <tr style=\"text-align: right;\">\n",
       "      <th></th>\n",
       "      <th>Admissions</th>\n",
       "    </tr>\n",
       "  </thead>\n",
       "  <tbody>\n",
       "    <tr>\n",
       "      <th>2018-01-01 00:00:00</th>\n",
       "      <td>9</td>\n",
       "    </tr>\n",
       "    <tr>\n",
       "      <th>2018-01-01 01:00:00</th>\n",
       "      <td>14</td>\n",
       "    </tr>\n",
       "    <tr>\n",
       "      <th>2018-01-01 02:00:00</th>\n",
       "      <td>10</td>\n",
       "    </tr>\n",
       "    <tr>\n",
       "      <th>2018-01-01 03:00:00</th>\n",
       "      <td>5</td>\n",
       "    </tr>\n",
       "    <tr>\n",
       "      <th>2018-01-01 04:00:00</th>\n",
       "      <td>11</td>\n",
       "    </tr>\n",
       "    <tr>\n",
       "      <th>...</th>\n",
       "      <td>...</td>\n",
       "    </tr>\n",
       "    <tr>\n",
       "      <th>2018-01-03 19:00:00</th>\n",
       "      <td>14</td>\n",
       "    </tr>\n",
       "    <tr>\n",
       "      <th>2018-01-03 20:00:00</th>\n",
       "      <td>14</td>\n",
       "    </tr>\n",
       "    <tr>\n",
       "      <th>2018-01-03 21:00:00</th>\n",
       "      <td>16</td>\n",
       "    </tr>\n",
       "    <tr>\n",
       "      <th>2018-01-03 22:00:00</th>\n",
       "      <td>6</td>\n",
       "    </tr>\n",
       "    <tr>\n",
       "      <th>2018-01-03 23:00:00</th>\n",
       "      <td>12</td>\n",
       "    </tr>\n",
       "  </tbody>\n",
       "</table>\n",
       "<p>72 rows × 1 columns</p>\n",
       "</div>"
      ],
      "text/plain": [
       "                     Admissions\n",
       "2018-01-01 00:00:00           9\n",
       "2018-01-01 01:00:00          14\n",
       "2018-01-01 02:00:00          10\n",
       "2018-01-01 03:00:00           5\n",
       "2018-01-01 04:00:00          11\n",
       "...                         ...\n",
       "2018-01-03 19:00:00          14\n",
       "2018-01-03 20:00:00          14\n",
       "2018-01-03 21:00:00          16\n",
       "2018-01-03 22:00:00           6\n",
       "2018-01-03 23:00:00          12\n",
       "\n",
       "[72 rows x 1 columns]"
      ]
     },
     "execution_count": 8,
     "metadata": {},
     "output_type": "execute_result"
    }
   ],
   "source": [
    "ts"
   ]
  },
  {
   "cell_type": "code",
   "execution_count": 9,
   "id": "476edad4-fa94-4a91-81d1-37463024e333",
   "metadata": {},
   "outputs": [
    {
     "data": {
      "text/plain": [
       "Admissions    10.194444\n",
       "dtype: float64"
      ]
     },
     "execution_count": 9,
     "metadata": {},
     "output_type": "execute_result"
    }
   ],
   "source": [
    "# Calculate average\n",
    "ts.mean()"
   ]
  },
  {
   "cell_type": "code",
   "execution_count": 14,
   "id": "288a931e-8508-4450-ab34-708fa6e029b0",
   "metadata": {},
   "outputs": [
    {
     "data": {
      "text/plain": [
       "Admissions    10\n",
       "Name: 2018-01-01 02:00:00, dtype: int32"
      ]
     },
     "execution_count": 14,
     "metadata": {},
     "output_type": "execute_result"
    }
   ],
   "source": [
    "# To select one time stamp\n",
    "ts.loc['2018-01-01 02:00:00']"
   ]
  },
  {
   "cell_type": "code",
   "execution_count": 15,
   "id": "da7c67bc-059a-4027-b5a0-9e1bda4ec0f5",
   "metadata": {},
   "outputs": [
    {
     "data": {
      "text/html": [
       "<div>\n",
       "<style scoped>\n",
       "    .dataframe tbody tr th:only-of-type {\n",
       "        vertical-align: middle;\n",
       "    }\n",
       "\n",
       "    .dataframe tbody tr th {\n",
       "        vertical-align: top;\n",
       "    }\n",
       "\n",
       "    .dataframe thead th {\n",
       "        text-align: right;\n",
       "    }\n",
       "</style>\n",
       "<table border=\"1\" class=\"dataframe\">\n",
       "  <thead>\n",
       "    <tr style=\"text-align: right;\">\n",
       "      <th></th>\n",
       "      <th>Admissions</th>\n",
       "    </tr>\n",
       "  </thead>\n",
       "  <tbody>\n",
       "    <tr>\n",
       "      <th>2018-01-02 00:00:00</th>\n",
       "      <td>8</td>\n",
       "    </tr>\n",
       "    <tr>\n",
       "      <th>2018-01-02 01:00:00</th>\n",
       "      <td>9</td>\n",
       "    </tr>\n",
       "    <tr>\n",
       "      <th>2018-01-02 02:00:00</th>\n",
       "      <td>8</td>\n",
       "    </tr>\n",
       "    <tr>\n",
       "      <th>2018-01-02 03:00:00</th>\n",
       "      <td>12</td>\n",
       "    </tr>\n",
       "    <tr>\n",
       "      <th>2018-01-02 04:00:00</th>\n",
       "      <td>6</td>\n",
       "    </tr>\n",
       "    <tr>\n",
       "      <th>2018-01-02 05:00:00</th>\n",
       "      <td>14</td>\n",
       "    </tr>\n",
       "    <tr>\n",
       "      <th>2018-01-02 06:00:00</th>\n",
       "      <td>8</td>\n",
       "    </tr>\n",
       "    <tr>\n",
       "      <th>2018-01-02 07:00:00</th>\n",
       "      <td>8</td>\n",
       "    </tr>\n",
       "    <tr>\n",
       "      <th>2018-01-02 08:00:00</th>\n",
       "      <td>6</td>\n",
       "    </tr>\n",
       "    <tr>\n",
       "      <th>2018-01-02 09:00:00</th>\n",
       "      <td>7</td>\n",
       "    </tr>\n",
       "    <tr>\n",
       "      <th>2018-01-02 10:00:00</th>\n",
       "      <td>10</td>\n",
       "    </tr>\n",
       "    <tr>\n",
       "      <th>2018-01-02 11:00:00</th>\n",
       "      <td>11</td>\n",
       "    </tr>\n",
       "    <tr>\n",
       "      <th>2018-01-02 12:00:00</th>\n",
       "      <td>9</td>\n",
       "    </tr>\n",
       "    <tr>\n",
       "      <th>2018-01-02 13:00:00</th>\n",
       "      <td>10</td>\n",
       "    </tr>\n",
       "    <tr>\n",
       "      <th>2018-01-02 14:00:00</th>\n",
       "      <td>5</td>\n",
       "    </tr>\n",
       "    <tr>\n",
       "      <th>2018-01-02 15:00:00</th>\n",
       "      <td>6</td>\n",
       "    </tr>\n",
       "    <tr>\n",
       "      <th>2018-01-02 16:00:00</th>\n",
       "      <td>9</td>\n",
       "    </tr>\n",
       "    <tr>\n",
       "      <th>2018-01-02 17:00:00</th>\n",
       "      <td>9</td>\n",
       "    </tr>\n",
       "    <tr>\n",
       "      <th>2018-01-02 18:00:00</th>\n",
       "      <td>11</td>\n",
       "    </tr>\n",
       "    <tr>\n",
       "      <th>2018-01-02 19:00:00</th>\n",
       "      <td>6</td>\n",
       "    </tr>\n",
       "    <tr>\n",
       "      <th>2018-01-02 20:00:00</th>\n",
       "      <td>11</td>\n",
       "    </tr>\n",
       "    <tr>\n",
       "      <th>2018-01-02 21:00:00</th>\n",
       "      <td>10</td>\n",
       "    </tr>\n",
       "    <tr>\n",
       "      <th>2018-01-02 22:00:00</th>\n",
       "      <td>8</td>\n",
       "    </tr>\n",
       "    <tr>\n",
       "      <th>2018-01-02 23:00:00</th>\n",
       "      <td>8</td>\n",
       "    </tr>\n",
       "  </tbody>\n",
       "</table>\n",
       "</div>"
      ],
      "text/plain": [
       "                     Admissions\n",
       "2018-01-02 00:00:00           8\n",
       "2018-01-02 01:00:00           9\n",
       "2018-01-02 02:00:00           8\n",
       "2018-01-02 03:00:00          12\n",
       "2018-01-02 04:00:00           6\n",
       "2018-01-02 05:00:00          14\n",
       "2018-01-02 06:00:00           8\n",
       "2018-01-02 07:00:00           8\n",
       "2018-01-02 08:00:00           6\n",
       "2018-01-02 09:00:00           7\n",
       "2018-01-02 10:00:00          10\n",
       "2018-01-02 11:00:00          11\n",
       "2018-01-02 12:00:00           9\n",
       "2018-01-02 13:00:00          10\n",
       "2018-01-02 14:00:00           5\n",
       "2018-01-02 15:00:00           6\n",
       "2018-01-02 16:00:00           9\n",
       "2018-01-02 17:00:00           9\n",
       "2018-01-02 18:00:00          11\n",
       "2018-01-02 19:00:00           6\n",
       "2018-01-02 20:00:00          11\n",
       "2018-01-02 21:00:00          10\n",
       "2018-01-02 22:00:00           8\n",
       "2018-01-02 23:00:00           8"
      ]
     },
     "execution_count": 15,
     "metadata": {},
     "output_type": "execute_result"
    }
   ],
   "source": [
    "# To selecct a range:\n",
    "ts.loc['2018-01-02 00:00:00':'2018-01-02 23:00:00']"
   ]
  },
  {
   "cell_type": "code",
   "execution_count": 17,
   "id": "d1d78133-fd9e-44aa-971b-3584f0499826",
   "metadata": {},
   "outputs": [
    {
     "data": {
      "text/plain": [
       "Admissions    8.708333\n",
       "dtype: float64"
      ]
     },
     "execution_count": 17,
     "metadata": {},
     "output_type": "execute_result"
    }
   ],
   "source": [
    "# Average of selected range\n",
    "ts.loc['2018-01-02 00:00:00':'2018-01-02 23:00:00'].mean()"
   ]
  },
  {
   "cell_type": "code",
   "execution_count": 20,
   "id": "b2cdc1c2-ed54-400e-9ebc-bf145bb8e8bc",
   "metadata": {},
   "outputs": [
    {
     "data": {
      "text/html": [
       "<div>\n",
       "<style scoped>\n",
       "    .dataframe tbody tr th:only-of-type {\n",
       "        vertical-align: middle;\n",
       "    }\n",
       "\n",
       "    .dataframe tbody tr th {\n",
       "        vertical-align: top;\n",
       "    }\n",
       "\n",
       "    .dataframe thead th {\n",
       "        text-align: right;\n",
       "    }\n",
       "</style>\n",
       "<table border=\"1\" class=\"dataframe\">\n",
       "  <thead>\n",
       "    <tr style=\"text-align: right;\">\n",
       "      <th></th>\n",
       "      <th>Admissions</th>\n",
       "    </tr>\n",
       "  </thead>\n",
       "  <tbody>\n",
       "    <tr>\n",
       "      <th>2018-01-01</th>\n",
       "      <td>10.500000</td>\n",
       "    </tr>\n",
       "    <tr>\n",
       "      <th>2018-01-02</th>\n",
       "      <td>8.708333</td>\n",
       "    </tr>\n",
       "    <tr>\n",
       "      <th>2018-01-03</th>\n",
       "      <td>11.375000</td>\n",
       "    </tr>\n",
       "  </tbody>\n",
       "</table>\n",
       "</div>"
      ],
      "text/plain": [
       "            Admissions\n",
       "2018-01-01   10.500000\n",
       "2018-01-02    8.708333\n",
       "2018-01-03   11.375000"
      ]
     },
     "execution_count": 20,
     "metadata": {},
     "output_type": "execute_result"
    }
   ],
   "source": [
    "# Grouping the data set by day, mean of the aggregation\n",
    "ts.resample('D').mean()"
   ]
  },
  {
   "cell_type": "code",
   "execution_count": null,
   "id": "51bd71ee-a766-44ea-b158-2619dcc3f716",
   "metadata": {},
   "outputs": [],
   "source": []
  }
 ],
 "metadata": {
  "kernelspec": {
   "display_name": "Python 3",
   "language": "python",
   "name": "python3"
  },
  "language_info": {
   "codemirror_mode": {
    "name": "ipython",
    "version": 3
   },
   "file_extension": ".py",
   "mimetype": "text/x-python",
   "name": "python",
   "nbconvert_exporter": "python",
   "pygments_lexer": "ipython3",
   "version": "3.8.8"
  }
 },
 "nbformat": 4,
 "nbformat_minor": 5
}
